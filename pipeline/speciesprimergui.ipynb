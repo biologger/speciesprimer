{
 "cells": [
  {
   "cell_type": "code",
   "execution_count": 1,
   "id": "c17150d9-a8a2-4189-8be2-f5adc5f5cbc5",
   "metadata": {},
   "outputs": [],
   "source": [
    "import os\n",
    "import ipyvuetify as v\n",
    "from IPython.display import display\n",
    "from IPython.display import HTML, Markdown\n",
    "from ipywidgets import widgets"
   ]
  },
  {
   "cell_type": "code",
   "execution_count": 2,
   "id": "87db1342",
   "metadata": {},
   "outputs": [],
   "source": [
    "import json\n",
    "from pathlib import Path\n",
    "fp = Path(\"~\", \"proxy_dict.json\")\n",
    "fp = fp.expanduser()\n",
    "if fp.is_file():\n",
    "    with open(fp) as f:\n",
    "        for line in f:\n",
    "            proxy_dict = json.loads(line)"
   ]
  },
  {
   "cell_type": "code",
   "execution_count": 3,
   "id": "1bdd42cb",
   "metadata": {},
   "outputs": [],
   "source": [
    "%%capture\n",
    "# for connection using SSL certificates\n",
    "%env SSL_CERT_DIR=/etc/ssl/certs\n",
    "%env REQUESTS_CA_BUNDLE=/etc/ssl/certs/ca-certificates.crt\n",
    "if len(proxy_dict) > 0:\n",
    "    http = proxy_dict[\"http_proxy\"]\n",
    "    https = proxy_dict[\"https_proxy\"]\n",
    "    %env http_proxy=$http\n",
    "    %env https_proxy=$https"
   ]
  },
  {
   "cell_type": "code",
   "execution_count": 4,
   "id": "f3c9d157",
   "metadata": {},
   "outputs": [
    {
     "data": {
      "application/javascript": [
       "function blinker() {\n",
       "     $('#blinking').fadeOut(500);\n",
       "     $('#blinking').fadeIn(500);\n",
       "}\n",
       "setInterval(blinker, 1000);\n"
      ],
      "text/plain": [
       "<IPython.core.display.Javascript object>"
      ]
     },
     "metadata": {},
     "output_type": "display_data"
    }
   ],
   "source": [
    "%%javascript\n",
    "function blinker() {\n",
    "     $('#blinking').fadeOut(500);\n",
    "     $('#blinking').fadeIn(500);\n",
    "}\n",
    "setInterval(blinker, 1000);"
   ]
  },
  {
   "cell_type": "code",
   "execution_count": 5,
   "id": "9dbc46a1",
   "metadata": {},
   "outputs": [],
   "source": [
    "from newgui_classes import WidgetDesigner\n",
    "from newgui_classes import SettingsStorage\n",
    "from newgui_classes import StartPipelineRuns\n",
    "from newgui_classes import TargetSelection\n",
    "settings_order, raw_widgets, widget_list, titles = WidgetDesigner().organize_widgets()\n",
    "conf_settings = SettingsStorage(settings_order, raw_widgets, widget_list, titles)\n",
    "targetselection = TargetSelection(conf_settings)"
   ]
  },
  {
   "cell_type": "code",
   "execution_count": 6,
   "id": "7474488e",
   "metadata": {},
   "outputs": [],
   "source": [
    "# Gui Navigation Setup\n",
    "\n",
    "from newgui_classes import GuiNavigation\n",
    "\n",
    "pages = [\n",
    "    \"Home\", \"Configuration\",\n",
    "    \"Select targets\", \"Pipeline runs\",\n",
    "    \"Inspect results\", \"Documentation\"]\n",
    "\n",
    "guinav = GuiNavigation()\n",
    "list_items, content_nav = guinav.create_guinavbar(pages)\n",
    "helplist_items, helpnav, filecontent = guinav.create_helpmenu()\n",
    "\n",
    "page1 = v.Layout(column=True, wrap=True, children=[\n",
    "    v.Flex(xs12=True, lg6=True, xl4=True, children=[ \n",
    "        v.Html(tag=\"div\",justify_space_around=True,  children=[\"here we will see the Home information\" ])])\n",
    "]) \n",
    "\n",
    "\n",
    "page2 = v.Layout(column=True, wrap=True, children=[\n",
    "    v.Flex(xs12=True, lg6=True, xl4=True, children=[ \n",
    "        v.Html(tag=\"div\", children=[\"here we will see the Configuration information\" ])])\n",
    "]) \n",
    "\n",
    "\n",
    "page3 = v.Layout(columns=True, wrap=True, align_center=True, children=[\n",
    "    v.Row(children=[\n",
    "        v.Col(cols=12, md=6, children=[\n",
    "            v.Card(outlined=True, style_='height: 400px', children=[\n",
    "        #targetselection.new_targets(),\n",
    "        targetselection.old_targets()])\n",
    "])])])\n",
    "\n",
    "\n",
    "page4 = v.Layout(columns=True, wrap=True, align_center=True, children=[\n",
    "    v.Flex(xs12=True, lg6=True, xl4=True, children=[ \n",
    "        v.Html(tag=\"div\", children=[\"here we will see the Pipeline Runs information\" ])])\n",
    "]) \n",
    "\n",
    "\n",
    "page5 = v.Layout(columns=True, wrap=True, align_center=True, children=[\n",
    "    v.Flex(xs12=True, lg6=True, xl4=True, children=[ \n",
    "        v.Html(tag=\"div\", children=[\"here we will see the Data Analysis information\" ])])\n",
    "]) \n",
    "\n",
    "def switch_page(widget, event, data):\n",
    "    title = widget.children[0].children[0].children[0]#.children[0]\n",
    "    pageindex = pages.index(title)\n",
    "    pagelist = [page1, page2, page3, page4, page5, helppage0]\n",
    "    content_main.children = [pagelist[pageindex]]        \n",
    "\n",
    "\n",
    "list_items[0].on_event('click', switch_page)\n",
    "list_items[1].on_event('click', switch_page)\n",
    "list_items[2].on_event('click', switch_page)\n",
    "list_items[3].on_event('click', switch_page)\n",
    "list_items[4].on_event('click', switch_page)\n",
    "list_items[5].on_event('click', switch_page)"
   ]
  },
  {
   "cell_type": "code",
   "execution_count": 7,
   "id": "cae3e25a",
   "metadata": {},
   "outputs": [
    {
     "data": {
      "application/vnd.jupyter.widget-view+json": {
       "model_id": "4d4cd01c86fc4a4aa2607c1dc7ba9711",
       "version_major": 2,
       "version_minor": 0
      },
      "text/plain": [
       "VBox(children=(VBox(children=(Label(value='Directory to search for config files'), Text(value='/primerdesign',…"
      ]
     },
     "metadata": {},
     "output_type": "display_data"
    }
   ],
   "source": [
    "dash = targetselection.old_targets()\n",
    "\n",
    "display(dash)"
   ]
  },
  {
   "cell_type": "code",
   "execution_count": null,
   "id": "4a2c9451",
   "metadata": {},
   "outputs": [],
   "source": []
  },
  {
   "cell_type": "code",
   "execution_count": 8,
   "id": "d42cee88",
   "metadata": {},
   "outputs": [],
   "source": [
    "# help pages setup\n",
    "def get_help(index, filecontent):\n",
    "    out = widgets.Output()\n",
    "    txt = filecontent[index]\n",
    "    with out:\n",
    "        display(Markdown(txt))\n",
    "    return out\n",
    "    \n",
    "    \n",
    "helppage0 = v.Layout(column=True, wrap=True, children=[\n",
    "            helpnav,\n",
    "            v.Container(align_start=True, children=[get_help(0, filecontent)])\n",
    "    ])\n",
    "\n",
    "helppage1 = v.Layout(column=True, wrap=True, children=[\n",
    "            helpnav,\n",
    "            v.Container(align_start=True, children=[get_help(1, filecontent)])\n",
    "    ])\n",
    "\n",
    "helppage2 = v.Layout(column=True, wrap=True, children=[\n",
    "            helpnav,\n",
    "            v.Container(align_start=True, children=[get_help(2, filecontent)])\n",
    "    ])\n",
    "\n",
    "helppage3 = v.Layout(column=True, wrap=True, children=[\n",
    "            helpnav,\n",
    "            v.Container(align_start=True, children=[get_help(3, filecontent)])\n",
    "    ])\n",
    "\n",
    "helppage4 = v.Layout(column=True, wrap=True, children=[\n",
    "            helpnav,\n",
    "            v.Container(align_start=True, children=[get_help(4, filecontent)])\n",
    "    ])\n",
    "\n",
    "helppage5 = v.Layout(column=True, wrap=True, children=[\n",
    "            helpnav,\n",
    "            v.Container(align_start=True, children=[get_help(5, filecontent)])\n",
    "    ])\n",
    "\n",
    "helppage6 = v.Layout(column=True, wrap=True, children=[\n",
    "            helpnav,\n",
    "            v.Container(align_start=True, children=[get_help(6, filecontent)])\n",
    "    ])\n",
    "\n",
    "helppage7 = v.Layout(column=True, wrap=True, children=[\n",
    "            helpnav,\n",
    "            v.Container(align_start=True, children=[get_help(7, filecontent)])\n",
    "    ])\n",
    "\n",
    "helppage8 = v.Layout(column=True, wrap=True, children=[\n",
    "            helpnav,\n",
    "            v.Container(align_start=True, children=[get_help(8, filecontent)])\n",
    "    ])\n",
    "\n",
    "helppage9 = v.Layout(column=True, wrap=True, children=[\n",
    "            helpnav,\n",
    "            v.Container(align_start=True, children=[get_help(9, filecontent)])\n",
    "    ])\n",
    "\n",
    "# Help pages navigation\n",
    "\n",
    "def switch_help_page(widget, event, data):\n",
    "    helpnames = [\n",
    "    \"Introduction\", \"Tutorial\", \"Pipeline setup\",\n",
    "    \"Primer design\", \"Troubleshooting\", \"Custom BLAST DB\",\n",
    "    \"Docker Proxy setup\", \"Docker Problems\",\n",
    "    \"Experimental\", \"CLI tips & tricks\"]\n",
    "    helppagelist = [\n",
    "        helppage0,\n",
    "        helppage1,\n",
    "        helppage2,\n",
    "        helppage3,\n",
    "        helppage4,\n",
    "        helppage5,\n",
    "        helppage6,\n",
    "        helppage7,\n",
    "        helppage8,\n",
    "        helppage9,\n",
    "    ]\n",
    "    title = widget.children[0].children[0].children[0]\n",
    "    pageindex = helpnames.index(title)\n",
    "    content_main.children = [helppagelist[pageindex]]   \n",
    "\n",
    "\n",
    "helplist_items[0].on_event('click', switch_help_page)\n",
    "helplist_items[1].on_event('click', switch_help_page)\n",
    "helplist_items[2].on_event('click', switch_help_page)\n",
    "helplist_items[3].on_event('click', switch_help_page)\n",
    "helplist_items[4].on_event('click', switch_help_page)\n",
    "helplist_items[5].on_event('click', switch_help_page)\n",
    "helplist_items[6].on_event('click', switch_help_page)\n",
    "helplist_items[7].on_event('click', switch_help_page)\n",
    "helplist_items[8].on_event('click', switch_help_page)\n",
    "helplist_items[9].on_event('click', switch_help_page)"
   ]
  },
  {
   "cell_type": "code",
   "execution_count": 9,
   "id": "a8ecdda3",
   "metadata": {},
   "outputs": [],
   "source": [
    "# By default, page1 is shown\n",
    "content_main = v.Layout(\n",
    "    _metadata={'mount_id': 'content-main'},\n",
    "    overflow=\"auto\",\n",
    "    style_='overflow: auto',\n",
    "    children=[page1]\n",
    ")"
   ]
  },
  {
   "cell_type": "code",
   "execution_count": 10,
   "id": "44e64492",
   "metadata": {},
   "outputs": [
    {
     "data": {
      "application/vnd.jupyter.widget-view+json": {
       "model_id": "eef9d104e28f48fea7ce9467c7ed8937",
       "version_major": 2,
       "version_minor": 0
      },
      "text/plain": [
       "List(children=[ListItem(children=[ListItemContent(children=[ListItemTitle(children=['Home'])])], link=True), L…"
      ]
     },
     "metadata": {},
     "output_type": "display_data"
    }
   ],
   "source": [
    "#%%capture\n",
    "display(content_nav)"
   ]
  },
  {
   "cell_type": "code",
   "execution_count": 11,
   "id": "c5ef775f",
   "metadata": {},
   "outputs": [
    {
     "data": {
      "application/vnd.jupyter.widget-view+json": {
       "model_id": "97a3aec954264518886760ece7bc5a95",
       "version_major": 2,
       "version_minor": 0
      },
      "text/plain": [
       "Layout(children=[Layout(children=[Flex(children=[Html(children=['here we will see the Home information'], tag=…"
      ]
     },
     "metadata": {},
     "output_type": "display_data"
    }
   ],
   "source": [
    "content_main"
   ]
  },
  {
   "cell_type": "code",
   "execution_count": 12,
   "id": "13daf4fc",
   "metadata": {},
   "outputs": [],
   "source": [
    "from newgui_classes import WidgetDesigner\n",
    "from newgui_classes import SettingsStorage\n",
    "from newgui_classes import StartPipelineRuns\n",
    "settings_order, raw_widgets, widget_list, titles = WidgetDesigner().organize_widgets()\n",
    "conf_settings = SettingsStorage(settings_order, raw_widgets, widget_list, titles)\n",
    "#StartPipelineRuns(conf_settings).init_runs()"
   ]
  },
  {
   "cell_type": "code",
   "execution_count": null,
   "id": "ccf75221",
   "metadata": {},
   "outputs": [],
   "source": []
  },
  {
   "cell_type": "code",
   "execution_count": null,
   "id": "bf1c8bb1",
   "metadata": {},
   "outputs": [],
   "source": []
  }
 ],
 "metadata": {
  "kernelspec": {
   "display_name": "Python 3 (ipykernel)",
   "language": "python",
   "name": "python3"
  },
  "language_info": {
   "codemirror_mode": {
    "name": "ipython",
    "version": 3
   },
   "file_extension": ".py",
   "mimetype": "text/x-python",
   "name": "python",
   "nbconvert_exporter": "python",
   "pygments_lexer": "ipython3",
   "version": "3.7.9"
  }
 },
 "nbformat": 4,
 "nbformat_minor": 5
}
