{
 "cells": [
  {
   "cell_type": "code",
   "execution_count": null,
   "id": "c17150d9-a8a2-4189-8be2-f5adc5f5cbc5",
   "metadata": {},
   "outputs": [],
   "source": [
    "import os\n",
    "from IPython.display import display\n",
    "from IPython.display import HTML"
   ]
  },
  {
   "cell_type": "code",
   "execution_count": null,
   "id": "1bdd42cb",
   "metadata": {},
   "outputs": [],
   "source": [
    "# for connection using SSL certificates\n",
    "%env SSL_CERT_DIR=/etc/ssl/certs\n",
    "%env REQUESTS_CA_BUNDLE=/etc/ssl/certs/ca-certificates.crt\n",
    "#%env http_proxy=\n",
    "#%env https_proxy="
   ]
  },
  {
   "cell_type": "code",
   "execution_count": null,
   "id": "f3c9d157",
   "metadata": {},
   "outputs": [],
   "source": [
    "%%javascript\n",
    "function blinker() {\n",
    "     $('#blinking').fadeOut(500);\n",
    "     $('#blinking').fadeIn(500);\n",
    "}\n",
    "setInterval(blinker, 1000);"
   ]
  },
  {
   "cell_type": "code",
   "execution_count": null,
   "id": "13daf4fc",
   "metadata": {},
   "outputs": [],
   "source": [
    "from newgui_classes import WidgetDesigner\n",
    "from newgui_classes import SettingsStorage\n",
    "from newgui_classes import StartPipelineRuns\n",
    "settings_order, raw_widgets, widget_list, titles = WidgetDesigner().organize_widgets()\n",
    "conf_settings = SettingsStorage(settings_order, raw_widgets, widget_list, titles)\n",
    "StartPipelineRuns(conf_settings).init_runs()"
   ]
  }
 ],
 "metadata": {
  "kernelspec": {
   "display_name": "Python 3 (ipykernel)",
   "language": "python",
   "name": "python3"
  },
  "language_info": {
   "codemirror_mode": {
    "name": "ipython",
    "version": 3
   },
   "file_extension": ".py",
   "mimetype": "text/x-python",
   "name": "python",
   "nbconvert_exporter": "python",
   "pygments_lexer": "ipython3",
   "version": "3.7.9"
  }
 },
 "nbformat": 4,
 "nbformat_minor": 5
}
