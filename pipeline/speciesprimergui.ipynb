{
 "cells": [
  {
   "cell_type": "code",
   "execution_count": 1,
   "id": "c17150d9-a8a2-4189-8be2-f5adc5f5cbc5",
   "metadata": {},
   "outputs": [],
   "source": [
    "import os\n",
    "import ipyvuetify as v\n",
    "from IPython.display import display\n",
    "from IPython.display import HTML, Markdown"
   ]
  },
  {
   "cell_type": "code",
   "execution_count": 2,
   "id": "87db1342",
   "metadata": {},
   "outputs": [],
   "source": [
    "import json\n",
    "from pathlib import Path\n",
    "fp = Path(\"~\", \"proxy_dict.json\")\n",
    "fp = fp.expanduser()\n",
    "if fp.is_file():\n",
    "    with open(fp) as f:\n",
    "        for line in f:\n",
    "            proxy_dict = json.loads(line)"
   ]
  },
  {
   "cell_type": "code",
   "execution_count": 3,
   "id": "1bdd42cb",
   "metadata": {},
   "outputs": [],
   "source": [
    "%%capture\n",
    "# for connection using SSL certificates\n",
    "%env SSL_CERT_DIR=/etc/ssl/certs\n",
    "%env REQUESTS_CA_BUNDLE=/etc/ssl/certs/ca-certificates.crt\n",
    "if len(proxy_dict) > 0:\n",
    "    http = proxy_dict[\"http_proxy\"]\n",
    "    https = proxy_dict[\"https_proxy\"]\n",
    "    %env http_proxy=$http\n",
    "    %env https_proxy=$https"
   ]
  },
  {
   "cell_type": "code",
   "execution_count": 4,
   "id": "f3c9d157",
   "metadata": {},
   "outputs": [
    {
     "data": {
      "application/javascript": [
       "function blinker() {\n",
       "     $('#blinking').fadeOut(500);\n",
       "     $('#blinking').fadeIn(500);\n",
       "}\n",
       "setInterval(blinker, 1000);\n"
      ],
      "text/plain": [
       "<IPython.core.display.Javascript object>"
      ]
     },
     "metadata": {},
     "output_type": "display_data"
    }
   ],
   "source": [
    "%%javascript\n",
    "function blinker() {\n",
    "     $('#blinking').fadeOut(500);\n",
    "     $('#blinking').fadeIn(500);\n",
    "}\n",
    "setInterval(blinker, 1000);"
   ]
  },
  {
   "cell_type": "code",
   "execution_count": 5,
   "id": "4c2b67a5",
   "metadata": {},
   "outputs": [],
   "source": [
    "%%capture\n",
    "from newgui_classes import GuiNavigation\n",
    "#GuiNavigation()"
   ]
  },
  {
   "cell_type": "code",
   "execution_count": 6,
   "id": "5d9a5405",
   "metadata": {},
   "outputs": [
    {
     "data": {
      "application/vnd.jupyter.widget-view+json": {
       "model_id": "b08f613b738b43e3bc2063ede4afa9fc",
       "version_major": 2,
       "version_minor": 0
      },
      "text/plain": [
       "Layout(align_center=True, children=[Html(children=['test'], tag='h2')], wrap=True)"
      ]
     },
     "metadata": {},
     "output_type": "display_data"
    }
   ],
   "source": [
    "import ipyvuetify as v\n",
    "\n",
    "content_main =  v.Layout(\n",
    "                    _metadata={'mount_id': 'content-main'},\n",
    "                    wrap=True, align_center=True,\n",
    "                    children=[\n",
    "                        v.Html(tag=\"h2\", children=[\"test\"])])\n",
    "\n",
    "\n",
    "\n",
    "\n",
    "content_main"
   ]
  },
  {
   "cell_type": "code",
   "execution_count": 7,
   "id": "8aee169b",
   "metadata": {},
   "outputs": [],
   "source": [
    "content_main.children = [v.Html(tag=\"div\", children=[\"A updated message for main\"])]"
   ]
  },
  {
   "cell_type": "code",
   "execution_count": 8,
   "id": "13daf4fc",
   "metadata": {},
   "outputs": [
    {
     "data": {
      "text/html": [
       "<h3>SpeciesPrimer configuration: </h3>"
      ],
      "text/plain": [
       "<IPython.core.display.HTML object>"
      ]
     },
     "metadata": {},
     "output_type": "display_data"
    },
    {
     "data": {
      "text/html": [
       "<h3>Select targets and settings: </h3>"
      ],
      "text/plain": [
       "<IPython.core.display.HTML object>"
      ]
     },
     "metadata": {},
     "output_type": "display_data"
    },
    {
     "data": {
      "application/vnd.jupyter.widget-view+json": {
       "model_id": "afe34eb5fbca4e019d3dfa9ee2346ca6",
       "version_major": 2,
       "version_minor": 0
      },
      "text/plain": [
       "Accordion(children=(VBox(children=(VBox(children=(Label(value='Please specify target species (comma separated)…"
      ]
     },
     "metadata": {},
     "output_type": "display_data"
    },
    {
     "data": {
      "application/vnd.jupyter.widget-view+json": {
       "model_id": "cc3d776ed1c44f0e8e6f3b2094093a81",
       "version_major": 2,
       "version_minor": 0
      },
      "text/plain": [
       "Accordion(children=(VBox(children=(VBox(children=(Label(value='Directory to search for config files'), Text(va…"
      ]
     },
     "metadata": {},
     "output_type": "display_data"
    },
    {
     "data": {
      "text/html": [
       "<h3>Start SpeciesPrimer runs: </h3>"
      ],
      "text/plain": [
       "<IPython.core.display.HTML object>"
      ]
     },
     "metadata": {},
     "output_type": "display_data"
    },
    {
     "data": {
      "application/vnd.jupyter.widget-view+json": {
       "model_id": "58b3e385aff849cf9b13897320c2d532",
       "version_major": 2,
       "version_minor": 0
      },
      "text/plain": [
       "VBox(children=(SelectMultiple(description='Species:', options=(), value=()), HBox(children=(Button(description…"
      ]
     },
     "metadata": {},
     "output_type": "display_data"
    }
   ],
   "source": [
    "from newgui_classes import WidgetDesigner\n",
    "from newgui_classes import SettingsStorage\n",
    "from newgui_classes import StartPipelineRuns\n",
    "settings_order, raw_widgets, widget_list, titles = WidgetDesigner().organize_widgets()\n",
    "conf_settings = SettingsStorage(settings_order, raw_widgets, widget_list, titles)\n",
    "StartPipelineRuns(conf_settings).init_runs()"
   ]
  },
  {
   "cell_type": "code",
   "execution_count": null,
   "id": "b3752b17",
   "metadata": {},
   "outputs": [],
   "source": []
  },
  {
   "cell_type": "code",
   "execution_count": null,
   "id": "d11bcb6b",
   "metadata": {},
   "outputs": [],
   "source": [
    "\n",
    "    \n",
    "\n",
    "    \n"
   ]
  },
  {
   "cell_type": "code",
   "execution_count": null,
   "id": "76bc8444",
   "metadata": {},
   "outputs": [],
   "source": [
    "\n"
   ]
  },
  {
   "cell_type": "code",
   "execution_count": null,
   "id": "e3ff5684",
   "metadata": {},
   "outputs": [],
   "source": []
  },
  {
   "cell_type": "code",
   "execution_count": null,
   "id": "7063f727",
   "metadata": {},
   "outputs": [],
   "source": []
  },
  {
   "cell_type": "code",
   "execution_count": null,
   "id": "7f72ca7b",
   "metadata": {},
   "outputs": [],
   "source": []
  },
  {
   "cell_type": "code",
   "execution_count": null,
   "id": "7457b62d",
   "metadata": {},
   "outputs": [],
   "source": []
  },
  {
   "cell_type": "code",
   "execution_count": 9,
   "id": "772bb22e",
   "metadata": {},
   "outputs": [],
   "source": [
    "#GuiNavigation()"
   ]
  },
  {
   "cell_type": "code",
   "execution_count": 10,
   "id": "c3d5b02b",
   "metadata": {},
   "outputs": [
    {
     "data": {
      "application/vnd.jupyter.widget-view+json": {
       "model_id": "07596315d5764f1696171fa680e85b1a",
       "version_major": 2,
       "version_minor": 0
      },
      "text/plain": [
       "Layout(children=[Btn(children=['Home'], class_='mx-2 Primary'), Btn(children=['Configuration'], class_='mx-2 P…"
      ]
     },
     "metadata": {},
     "output_type": "display_data"
    }
   ],
   "source": [
    "def help_on_click(widget, event, data):\n",
    "    content_main =  v.Layout(\n",
    "                    _metadata={'mount_id': 'content-main'},\n",
    "                    wrap=True, align_center=True,\n",
    "                    children=[\n",
    "                        \"this is the help menu\"])\n",
    "\n",
    "    display(content_main)\n",
    "    \n",
    "    \n",
    "GuiNavigation().btns[-3].on_event('click', help_on_click)"
   ]
  },
  {
   "cell_type": "code",
   "execution_count": null,
   "id": "ed7bfefe",
   "metadata": {},
   "outputs": [],
   "source": []
  },
  {
   "cell_type": "code",
   "execution_count": 11,
   "id": "d3d7760e",
   "metadata": {},
   "outputs": [],
   "source": [
    "class HelpMenu(object):\n",
    "    def __init__(self):\n",
    "        pass\n",
    "    def rtfd(self):\n",
    "        helpnames = [\n",
    "            \"Contents\", \"Tutorial\", \"Pipeline setup\",\n",
    "            \"Primer design\", \"Troubleshooting\", \"Custom BLAST DB\",\n",
    "            \"Docker Proxy setup\", \"Docker Problems\",\n",
    "            \"Experimental\", \"CLI tips & tricks\"]\n",
    "        filenames = [\n",
    "            '/docs/tableofcontents.md', '/docs/tutorial.md',\n",
    "            '/docs/pipelinesetup.md', '/docs/primerdesign.md',\n",
    "            '/docs/troubleshooting.md', '/docs/customdbtutorial.md',\n",
    "            '/docs/dockerproxy.md', '/docs/dockertroubleshooting.md',\n",
    "            '/docs/virus.md', '/docs/cmdlineonly.md'\n",
    "                    ]\n",
    "        filedict = dict(zip(helpnames, filenames))\n",
    "\n",
    "        helpbtns = [v.Btn(class_='Primary', children=[i]) for i in helpnames]\n",
    "        toolbar = v.Toolbar(\n",
    "            children=[\n",
    "                v.ToolbarTitle(children=[\"Read the docs\"]),\n",
    "                v.Spacer(), # Fills empty space\n",
    "                v.ToolbarItems(children=helpbtns)\n",
    "            ],\n",
    "            app=True,  # If true, the other widgets float under on scroll\n",
    "            shrink_on_scroll = True\n",
    "        )\n",
    "\n",
    "\n",
    "        return toolbar, helpbtns, filedict\n",
    "\n",
    "    def test(self):\n",
    "        from ipywidgets import widgets\n",
    "        import ipyvuetify as v\n",
    "\n",
    "        md_out = widgets.Output()\n",
    "\n",
    "\n",
    "\n",
    "\n",
    "        toolbar, helpbtns, filedict = self.rtfd()\n",
    "\n",
    "\n",
    "\n",
    "        def md_on_click(widget, event, data):\n",
    "            with md_out:\n",
    "                md_out.clear_output()\n",
    "                param = widget.children[0]\n",
    "                with open(filedict[param]) as f:\n",
    "                    md = \"\\n\".join(f.readlines())\n",
    "                    display(Markdown(md))\n",
    "\n",
    "        for btn in helpbtns:\n",
    "            btn.on_event('click', md_on_click)"
   ]
  },
  {
   "cell_type": "code",
   "execution_count": 12,
   "id": "e6139454",
   "metadata": {},
   "outputs": [],
   "source": [
    "HelpMenu().test()"
   ]
  },
  {
   "cell_type": "code",
   "execution_count": 13,
   "id": "24f56ad9",
   "metadata": {},
   "outputs": [
    {
     "data": {
      "application/vnd.jupyter.widget-view+json": {
       "model_id": "7fe13a4e98554a798a318792490e639f",
       "version_major": 2,
       "version_minor": 0
      },
      "text/plain": [
       "Container(children=[Btn(children=['button', Icon(children=['mdi-account-lock'], right=True)], color='primary')…"
      ]
     },
     "metadata": {},
     "output_type": "display_data"
    },
    {
     "name": "stdout",
     "output_type": "stream",
     "text": [
      "btn clicked\n",
      "btn clicked\n",
      "btn clicked\n"
     ]
    }
   ],
   "source": [
    "icon = v.Icon(right=True, children=['mdi-account-lock'])\n",
    "btn = v.Btn(color='primary', children=[\n",
    "    'button',\n",
    "    icon\n",
    "])\n",
    "\n",
    "icon.on_event('click.stop', lambda *args: print('icon clicked'))\n",
    "btn.on_event('click', lambda *args: print('btn clicked'))\n",
    "\n",
    "v.Container(children=[\n",
    "    btn\n",
    "])\n"
   ]
  },
  {
   "cell_type": "code",
   "execution_count": 20,
   "id": "8120cb37",
   "metadata": {},
   "outputs": [
    {
     "data": {
      "application/vnd.jupyter.widget-view+json": {
       "model_id": "34197e6fb23446e080c3e1ebe88992a6",
       "version_major": 2,
       "version_minor": 0
      },
      "text/plain": [
       "Layout(align_center=True, children=['this is the help menu'], wrap=True)"
      ]
     },
     "metadata": {},
     "output_type": "display_data"
    }
   ],
   "source": [
    "content_main =  v.Layout(\n",
    "                _metadata={'mount_id': 'content-main'},\n",
    "                wrap=True, align_center=True,\n",
    "                children=[\n",
    "                    \"this is the help menu\"])\n",
    "\n",
    "display(content_main)"
   ]
  },
  {
   "cell_type": "code",
   "execution_count": null,
   "id": "0c9aa64b",
   "metadata": {},
   "outputs": [],
   "source": []
  },
  {
   "cell_type": "code",
   "execution_count": 25,
   "id": "4bb18b4d",
   "metadata": {},
   "outputs": [
    {
     "data": {
      "application/vnd.jupyter.widget-view+json": {
       "model_id": "36833cbc178646959a4f4a0de0ede66a",
       "version_major": 2,
       "version_minor": 0
      },
      "text/plain": [
       "List(children=[ListItem(children=[ListItemIcon(children=[Icon(children=['account_box'])]), ListItemContent(chi…"
      ]
     },
     "metadata": {},
     "output_type": "display_data"
    }
   ],
   "source": [
    "list_items = [\n",
    "    v.ListItem(link=True, children=[\n",
    "        v.ListItemIcon(children=[\n",
    "            v.Icon(children=[\"account_box\"]),\n",
    "        ]),\n",
    "        v.ListItemContent(children=[\n",
    "            v.ListItemTitle(children=[\"Account\"])\n",
    "        ])\n",
    "    ]),\n",
    "    v.ListItem(link=True, children=[\n",
    "        v.ListItemIcon(children=[\n",
    "            v.Icon(children=[\"timeline\"]),\n",
    "        ]),\n",
    "        v.ListItemContent(children=[\n",
    "            v.ListItemTitle(children=[\"Analytics\"])\n",
    "        ])\n",
    "    ]),\n",
    "    v.ListItem(link=True, children=[\n",
    "        v.ListItemIcon(children=[\n",
    "            v.Icon(children=[\"build\"]),\n",
    "        ]),\n",
    "        v.ListItemContent(children=[\n",
    "            v.ListItemTitle(children=[\"Settings\"])\n",
    "        ])\n",
    "    ])\n",
    "]\n",
    "\n",
    "v.List(\n",
    "    _metadata={'mount_id':'content-nav'},\n",
    "    column=True,\n",
    "    children=list_items\n",
    ")"
   ]
  },
  {
   "cell_type": "code",
   "execution_count": 21,
   "id": "54a3ed3d",
   "metadata": {},
   "outputs": [
    {
     "data": {
      "application/vnd.jupyter.widget-view+json": {
       "model_id": "64ef01e998e24288867564bd82412640",
       "version_major": 2,
       "version_minor": 0
      },
      "text/plain": [
       "Layout(align_center=True, children=[Flex(children=['here we will see the account information'], lg6=True, xl4=…"
      ]
     },
     "metadata": {},
     "output_type": "display_data"
    }
   ],
   "source": [
    "page1 = v.Layout(row=True, wrap=True, align_center=True, children=[\n",
    "    v.Flex(xs12=True, lg6=True, xl4=True, children=[ \"here we will see the account information\" ])\n",
    "]) \n",
    "page1"
   ]
  },
  {
   "cell_type": "code",
   "execution_count": 22,
   "id": "34923771",
   "metadata": {},
   "outputs": [
    {
     "data": {
      "application/vnd.jupyter.widget-view+json": {
       "model_id": "4f05801296974010b44b7709d5a7e2c4",
       "version_major": 2,
       "version_minor": 0
      },
      "text/plain": [
       "Layout(align_center=True, children=[Flex(children=['here we will see the Analytics information'], lg6=True, xl…"
      ]
     },
     "metadata": {},
     "output_type": "display_data"
    }
   ],
   "source": [
    "page2 = v.Layout(row=True, wrap=True, align_center=True, children=[\n",
    "    v.Flex(xs12=True, lg6=True, xl4=True, children=[ \"here we will see the Analytics information\" ]) \n",
    "])\n",
    "page2"
   ]
  },
  {
   "cell_type": "code",
   "execution_count": 23,
   "id": "91cb1fd9",
   "metadata": {},
   "outputs": [
    {
     "data": {
      "application/vnd.jupyter.widget-view+json": {
       "model_id": "0bac50dfad5c4661b41ae6ec9b56446b",
       "version_major": 2,
       "version_minor": 0
      },
      "text/plain": [
       "Layout(align_center=True, children=[Flex(children=['here we will see the Settings information'], lg6=True, xl4…"
      ]
     },
     "metadata": {},
     "output_type": "display_data"
    }
   ],
   "source": [
    "page3 = v.Layout(row=True, wrap=True, align_center=True, children=[\n",
    "    v.Flex(xs12=True, lg6=True, xl4=True, children=[ \"here we will see the Settings information\" ]) \n",
    "])\n",
    "page3"
   ]
  },
  {
   "cell_type": "code",
   "execution_count": 24,
   "id": "d7046203",
   "metadata": {},
   "outputs": [],
   "source": [
    "\n",
    "   \n",
    "\n",
    "list_items = [page1, page2, page3]\n",
    "    \n",
    "\n",
    "\n",
    "    \n",
    "def switch_to_first(*args):\n",
    "    appbar_title.children = ['Account']\n",
    "    content_main.children = [page1]\n",
    "    \n",
    "def switch_to_second(*args):\n",
    "    appbar_title.children = ['Analytics']\n",
    "    content_main.children = [page2]\n",
    "    \n",
    "def switch_to_third(*args):\n",
    "    appbar_title.children = ['Settings']\n",
    "    content_main.children = [page3]\n",
    "    \n",
    "list_items[0].on_event('click', switch_to_first)\n",
    "list_items[1].on_event('click', switch_to_second)\n",
    "list_items[2].on_event('click', switch_to_third)\n",
    "\n"
   ]
  },
  {
   "cell_type": "code",
   "execution_count": null,
   "id": "02f0e1fe",
   "metadata": {},
   "outputs": [],
   "source": []
  },
  {
   "cell_type": "code",
   "execution_count": null,
   "id": "6ebfd52b",
   "metadata": {},
   "outputs": [],
   "source": []
  }
 ],
 "metadata": {
  "kernelspec": {
   "display_name": "Python 3 (ipykernel)",
   "language": "python",
   "name": "python3"
  },
  "language_info": {
   "codemirror_mode": {
    "name": "ipython",
    "version": 3
   },
   "file_extension": ".py",
   "mimetype": "text/x-python",
   "name": "python",
   "nbconvert_exporter": "python",
   "pygments_lexer": "ipython3",
   "version": "3.7.9"
  }
 },
 "nbformat": 4,
 "nbformat_minor": 5
}
