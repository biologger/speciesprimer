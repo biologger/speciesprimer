{
 "cells": [
  {
   "cell_type": "code",
   "execution_count": 1,
   "id": "c17150d9-a8a2-4189-8be2-f5adc5f5cbc5",
   "metadata": {},
   "outputs": [],
   "source": [
    "import os\n",
    "from IPython.display import display\n",
    "from IPython.display import HTML, Markdown"
   ]
  },
  {
   "cell_type": "code",
   "execution_count": 2,
   "id": "87db1342",
   "metadata": {},
   "outputs": [],
   "source": [
    "import json\n",
    "from pathlib import Path\n",
    "fp = Path(\"~\", \"proxy_dict.json\")\n",
    "fp = fp.expanduser()\n",
    "if fp.is_file():\n",
    "    with open(fp) as f:\n",
    "        for line in f:\n",
    "            proxy_dict = json.loads(line)"
   ]
  },
  {
   "cell_type": "code",
   "execution_count": 3,
   "id": "1bdd42cb",
   "metadata": {},
   "outputs": [],
   "source": [
    "%%capture\n",
    "# for connection using SSL certificates\n",
    "%env SSL_CERT_DIR=/etc/ssl/certs\n",
    "%env REQUESTS_CA_BUNDLE=/etc/ssl/certs/ca-certificates.crt\n",
    "if len(proxy_dict) > 0:\n",
    "    http = proxy_dict[\"http_proxy\"]\n",
    "    https = proxy_dict[\"https_proxy\"]\n",
    "    %env http_proxy=$http\n",
    "    %env https_proxy=$https"
   ]
  },
  {
   "cell_type": "code",
   "execution_count": 4,
   "id": "f3c9d157",
   "metadata": {},
   "outputs": [
    {
     "data": {
      "application/javascript": [
       "function blinker() {\n",
       "     $('#blinking').fadeOut(500);\n",
       "     $('#blinking').fadeIn(500);\n",
       "}\n",
       "setInterval(blinker, 1000);\n"
      ],
      "text/plain": [
       "<IPython.core.display.Javascript object>"
      ]
     },
     "metadata": {},
     "output_type": "display_data"
    }
   ],
   "source": [
    "%%javascript\n",
    "function blinker() {\n",
    "     $('#blinking').fadeOut(500);\n",
    "     $('#blinking').fadeIn(500);\n",
    "}\n",
    "setInterval(blinker, 1000);"
   ]
  },
  {
   "cell_type": "code",
   "execution_count": 5,
   "id": "4c2b67a5",
   "metadata": {},
   "outputs": [],
   "source": [
    "%%capture\n",
    "from newgui_classes import GuiNavigation\n",
    "GuiNavigation()"
   ]
  },
  {
   "cell_type": "code",
   "execution_count": 6,
   "id": "5d9a5405",
   "metadata": {},
   "outputs": [
    {
     "data": {
      "application/vnd.jupyter.widget-view+json": {
       "model_id": "f4d88e1bb19f44a2a43b2f71c6796e42",
       "version_major": 2,
       "version_minor": 0
      },
      "text/plain": [
       "Layout(align_center=True, children=[Html(children=['test'], tag='h2')], wrap=True)"
      ]
     },
     "metadata": {},
     "output_type": "display_data"
    }
   ],
   "source": [
    "import ipyvuetify as v\n",
    "\n",
    "content_main =  v.Layout(\n",
    "                    _metadata={'mount_id': 'content-main'},\n",
    "                    wrap=True, align_center=True,\n",
    "                    children=[\n",
    "                        v.Html(tag=\"h2\", children=[\"test\"])])\n",
    "\n",
    "\n",
    "\n",
    "\n",
    "content_main"
   ]
  },
  {
   "cell_type": "code",
   "execution_count": null,
   "id": "8aee169b",
   "metadata": {},
   "outputs": [],
   "source": []
  },
  {
   "cell_type": "code",
   "execution_count": 7,
   "id": "13daf4fc",
   "metadata": {},
   "outputs": [
    {
     "data": {
      "text/html": [
       "<h3>SpeciesPrimer configuration: </h3>"
      ],
      "text/plain": [
       "<IPython.core.display.HTML object>"
      ]
     },
     "metadata": {},
     "output_type": "display_data"
    },
    {
     "data": {
      "text/html": [
       "<h3>Select targets and settings: </h3>"
      ],
      "text/plain": [
       "<IPython.core.display.HTML object>"
      ]
     },
     "metadata": {},
     "output_type": "display_data"
    },
    {
     "data": {
      "application/vnd.jupyter.widget-view+json": {
       "model_id": "dbe420c452e446ad86dde7df8ca3cc69",
       "version_major": 2,
       "version_minor": 0
      },
      "text/plain": [
       "Accordion(children=(VBox(children=(VBox(children=(Label(value='Please specify target species (comma separated)…"
      ]
     },
     "metadata": {},
     "output_type": "display_data"
    },
    {
     "data": {
      "application/vnd.jupyter.widget-view+json": {
       "model_id": "b7fa82b8956c436eb69a4dbe3bd4c61c",
       "version_major": 2,
       "version_minor": 0
      },
      "text/plain": [
       "Accordion(children=(VBox(children=(VBox(children=(Label(value='Directory to search for config files'), Text(va…"
      ]
     },
     "metadata": {},
     "output_type": "display_data"
    },
    {
     "data": {
      "text/html": [
       "<h3>Start SpeciesPrimer runs: </h3>"
      ],
      "text/plain": [
       "<IPython.core.display.HTML object>"
      ]
     },
     "metadata": {},
     "output_type": "display_data"
    },
    {
     "data": {
      "application/vnd.jupyter.widget-view+json": {
       "model_id": "40f14554d1964e919a97fff40c4afb35",
       "version_major": 2,
       "version_minor": 0
      },
      "text/plain": [
       "VBox(children=(SelectMultiple(description='Species:', options=(), value=()), HBox(children=(Button(description…"
      ]
     },
     "metadata": {},
     "output_type": "display_data"
    }
   ],
   "source": [
    "from newgui_classes import WidgetDesigner\n",
    "from newgui_classes import SettingsStorage\n",
    "from newgui_classes import StartPipelineRuns\n",
    "settings_order, raw_widgets, widget_list, titles = WidgetDesigner().organize_widgets()\n",
    "conf_settings = SettingsStorage(settings_order, raw_widgets, widget_list, titles)\n",
    "StartPipelineRuns(conf_settings).init_runs()"
   ]
  },
  {
   "cell_type": "code",
   "execution_count": null,
   "id": "b3752b17",
   "metadata": {},
   "outputs": [],
   "source": []
  },
  {
   "cell_type": "code",
   "execution_count": null,
   "id": "d11bcb6b",
   "metadata": {},
   "outputs": [],
   "source": [
    "\n",
    "    \n",
    "\n",
    "    \n"
   ]
  },
  {
   "cell_type": "code",
   "execution_count": null,
   "id": "76bc8444",
   "metadata": {},
   "outputs": [],
   "source": [
    "\n"
   ]
  },
  {
   "cell_type": "code",
   "execution_count": null,
   "id": "e61caa95",
   "metadata": {},
   "outputs": [],
   "source": []
  },
  {
   "cell_type": "code",
   "execution_count": null,
   "id": "0e245d88",
   "metadata": {},
   "outputs": [],
   "source": []
  },
  {
   "cell_type": "code",
   "execution_count": null,
   "id": "7f72ca7b",
   "metadata": {},
   "outputs": [],
   "source": []
  },
  {
   "cell_type": "code",
   "execution_count": null,
   "id": "d8321a9a",
   "metadata": {},
   "outputs": [],
   "source": []
  },
  {
   "cell_type": "code",
   "execution_count": 8,
   "id": "3c335683",
   "metadata": {},
   "outputs": [
    {
     "data": {
      "application/vnd.jupyter.widget-view+json": {
       "model_id": "82d462b515f4442c8cce677993bcc505",
       "version_major": 2,
       "version_minor": 0
      },
      "text/plain": [
       "Layout(children=[Btn(children=['Home'], class_='mx-2 Primary'), Btn(children=['Configuration'], class_='mx-2 P…"
      ]
     },
     "metadata": {},
     "output_type": "display_data"
    },
    {
     "data": {
      "text/plain": [
       "<newgui_classes.GuiNavigation at 0x7fdfbd99b910>"
      ]
     },
     "execution_count": 8,
     "metadata": {},
     "output_type": "execute_result"
    },
    {
     "data": {
      "application/vnd.jupyter.widget-view+json": {
       "model_id": "ebcc8f4f17ac483f80442472ef7282e1",
       "version_major": 2,
       "version_minor": 0
      },
      "text/plain": [
       "Layout(children=['this is the help menu'])"
      ]
     },
     "metadata": {},
     "output_type": "display_data"
    },
    {
     "data": {
      "application/vnd.jupyter.widget-view+json": {
       "model_id": "de716afea9dc483690cd021d118b7be7",
       "version_major": 2,
       "version_minor": 0
      },
      "text/plain": [
       "Layout(children=['this is the help menu'])"
      ]
     },
     "metadata": {},
     "output_type": "display_data"
    },
    {
     "data": {
      "application/vnd.jupyter.widget-view+json": {
       "model_id": "672535a419fd4d2e8256ec9432eb787d",
       "version_major": 2,
       "version_minor": 0
      },
      "text/plain": [
       "Layout(children=['this is the help menu'])"
      ]
     },
     "metadata": {},
     "output_type": "display_data"
    },
    {
     "data": {
      "application/vnd.jupyter.widget-view+json": {
       "model_id": "b55298bf9b194a438b0aa042e1e7f485",
       "version_major": 2,
       "version_minor": 0
      },
      "text/plain": [
       "Layout(children=['this is the help menu'])"
      ]
     },
     "metadata": {},
     "output_type": "display_data"
    }
   ],
   "source": [
    "GuiNavigation()"
   ]
  },
  {
   "cell_type": "code",
   "execution_count": 14,
   "id": "61b65fec",
   "metadata": {},
   "outputs": [
    {
     "data": {
      "application/vnd.jupyter.widget-view+json": {
       "model_id": "bfe4f79f9e5d4f0cb67b45419af8cab5",
       "version_major": 2,
       "version_minor": 0
      },
      "text/plain": [
       "Layout(children=[Btn(children=['Home'], class_='mx-2 Primary'), Btn(children=['Configuration'], class_='mx-2 P…"
      ]
     },
     "metadata": {},
     "output_type": "display_data"
    },
    {
     "data": {
      "application/vnd.jupyter.widget-view+json": {
       "model_id": "18326c2fb71c4804ba991abfd5a9b5cc",
       "version_major": 2,
       "version_minor": 0
      },
      "text/plain": [
       "Layout(align_center=True, children=['this is the help menu'], wrap=True)"
      ]
     },
     "metadata": {},
     "output_type": "display_data"
    },
    {
     "data": {
      "application/vnd.jupyter.widget-view+json": {
       "model_id": "62b51e541ee44c59ab16e9f18493acd7",
       "version_major": 2,
       "version_minor": 0
      },
      "text/plain": [
       "Layout(align_center=True, children=['this is the help menu'], wrap=True)"
      ]
     },
     "metadata": {},
     "output_type": "display_data"
    },
    {
     "data": {
      "application/vnd.jupyter.widget-view+json": {
       "model_id": "1484f013683b4f349656917fc4923faa",
       "version_major": 2,
       "version_minor": 0
      },
      "text/plain": [
       "Layout(align_center=True, children=['this is the help menu'], wrap=True)"
      ]
     },
     "metadata": {},
     "output_type": "display_data"
    }
   ],
   "source": [
    "def help_on_click(widget, event, data):\n",
    "    content_main =  v.Layout(\n",
    "                    _metadata={'mount_id': 'content-main'},\n",
    "                    wrap=True, align_center=True,\n",
    "                    children=[\n",
    "                        \"this is the help menu\"])\n",
    "\n",
    "    display(content_main)\n",
    "    \n",
    "    \n",
    "GuiNavigation().btns[-3].on_event('click', help_on_click)"
   ]
  },
  {
   "cell_type": "code",
   "execution_count": null,
   "id": "8bd68f8b",
   "metadata": {},
   "outputs": [],
   "source": []
  },
  {
   "cell_type": "code",
   "execution_count": 9,
   "id": "2d5122f5",
   "metadata": {},
   "outputs": [],
   "source": [
    "class HelpMenu(object):\n",
    "    def __init__(self):\n",
    "        pass\n",
    "    def rtfd(self):\n",
    "        helpnames = [\n",
    "            \"Contents\", \"Tutorial\", \"Pipeline setup\",\n",
    "            \"Primer design\", \"Troubleshooting\", \"Custom BLAST DB\",\n",
    "            \"Docker Proxy setup\", \"Docker Problems\",\n",
    "            \"Experimental\", \"CLI tips & tricks\"]\n",
    "        filenames = [\n",
    "            '/docs/tableofcontents.md', '/docs/tutorial.md',\n",
    "            '/docs/pipelinesetup.md', '/docs/primerdesign.md',\n",
    "            '/docs/troubleshooting.md', '/docs/customdbtutorial.md',\n",
    "            '/docs/dockerproxy.md', '/docs/dockertroubleshooting.md',\n",
    "            '/docs/virus.md', '/docs/cmdlineonly.md'\n",
    "                    ]\n",
    "        filedict = dict(zip(helpnames, filenames))\n",
    "\n",
    "        helpbtns = [v.Btn(class_='Primary', children=[i]) for i in helpnames]\n",
    "        toolbar = v.Toolbar(\n",
    "            children=[\n",
    "                v.ToolbarTitle(children=[\"Read the docs\"]),\n",
    "                v.Spacer(), # Fills empty space\n",
    "                v.ToolbarItems(children=helpbtns)\n",
    "            ],\n",
    "            app=True,  # If true, the other widgets float under on scroll\n",
    "            shrink_on_scroll = True\n",
    "        )\n",
    "\n",
    "\n",
    "        return toolbar, helpbtns, filedict\n",
    "\n",
    "    def test(self):\n",
    "        from ipywidgets import widgets\n",
    "        import ipyvuetify as v\n",
    "\n",
    "        md_out = widgets.Output()\n",
    "\n",
    "\n",
    "\n",
    "\n",
    "        toolbar, helpbtns, filedict = self.rtfd()\n",
    "\n",
    "\n",
    "\n",
    "        def md_on_click(widget, event, data):\n",
    "            with md_out:\n",
    "                md_out.clear_output()\n",
    "                param = widget.children[0]\n",
    "                with open(filedict[param]) as f:\n",
    "                    md = \"\\n\".join(f.readlines())\n",
    "                    display(Markdown(md))\n",
    "\n",
    "        for btn in helpbtns:\n",
    "            btn.on_event('click', md_on_click)"
   ]
  },
  {
   "cell_type": "code",
   "execution_count": 11,
   "id": "c8ecbf45",
   "metadata": {},
   "outputs": [],
   "source": [
    "HelpMenu().test()"
   ]
  },
  {
   "cell_type": "code",
   "execution_count": 15,
   "id": "9b7b3b81",
   "metadata": {},
   "outputs": [
    {
     "data": {
      "application/vnd.jupyter.widget-view+json": {
       "model_id": "3cad2390773244cbae1f6d5bb69ea5da",
       "version_major": 2,
       "version_minor": 0
      },
      "text/plain": [
       "Container(children=[Btn(children=['button', Icon(children=['mdi-account-lock'], right=True)], color='primary')…"
      ]
     },
     "metadata": {},
     "output_type": "display_data"
    },
    {
     "name": "stdout",
     "output_type": "stream",
     "text": [
      "icon clicked\n",
      "btn clicked\n",
      "icon clicked\n",
      "icon clicked\n",
      "icon clicked\n",
      "btn clicked\n"
     ]
    }
   ],
   "source": [
    "icon = v.Icon(right=True, children=['mdi-account-lock'])\n",
    "btn = v.Btn(color='primary', children=[\n",
    "    'button',\n",
    "    icon\n",
    "])\n",
    "\n",
    "icon.on_event('click.stop', lambda *args: print('icon clicked'))\n",
    "btn.on_event('click', lambda *args: print('btn clicked'))\n",
    "\n",
    "v.Container(children=[\n",
    "    btn\n",
    "])\n"
   ]
  },
  {
   "cell_type": "code",
   "execution_count": 16,
   "id": "7d1f5752",
   "metadata": {},
   "outputs": [
    {
     "data": {
      "application/vnd.jupyter.widget-view+json": {
       "model_id": "ae219c36d5294e0e9d74fdb962cf9bb0",
       "version_major": 2,
       "version_minor": 0
      },
      "text/plain": [
       "Layout(align_center=True, children=['this is the help menu'], wrap=True)"
      ]
     },
     "metadata": {},
     "output_type": "display_data"
    }
   ],
   "source": [
    "content_main =  v.Layout(\n",
    "                _metadata={'mount_id': 'content-main'},\n",
    "                wrap=True, align_center=True,\n",
    "                children=[\n",
    "                    \"this is the help menu\"])\n",
    "\n",
    "display(content_main)"
   ]
  },
  {
   "cell_type": "code",
   "execution_count": null,
   "id": "25dd9800",
   "metadata": {},
   "outputs": [],
   "source": []
  },
  {
   "cell_type": "code",
   "execution_count": null,
   "id": "7179ded1",
   "metadata": {},
   "outputs": [],
   "source": []
  }
 ],
 "metadata": {
  "kernelspec": {
   "display_name": "Python 3 (ipykernel)",
   "language": "python",
   "name": "python3"
  },
  "language_info": {
   "codemirror_mode": {
    "name": "ipython",
    "version": 3
   },
   "file_extension": ".py",
   "mimetype": "text/x-python",
   "name": "python",
   "nbconvert_exporter": "python",
   "pygments_lexer": "ipython3",
   "version": "3.7.9"
  }
 },
 "nbformat": 4,
 "nbformat_minor": 5
}
