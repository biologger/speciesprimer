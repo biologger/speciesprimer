{
 "cells": [
  {
   "cell_type": "code",
   "execution_count": 69,
   "id": "7d18de9c",
   "metadata": {},
   "outputs": [],
   "source": [
    "import os\n",
    "import ipyvuetify as v\n",
    "from IPython.display import display\n",
    "from IPython.display import HTML, Markdown\n",
    "from ipywidgets import widgets"
   ]
  },
  {
   "cell_type": "code",
   "execution_count": 248,
   "id": "6164ea8b",
   "metadata": {},
   "outputs": [],
   "source": [
    "def menu_buttons():\n",
    "    item1 = v.ListItem(link=True, \n",
    "        href = 'https://github.com/biologger/speciesprimer',\n",
    "        target = '_blank',\n",
    "        children=[\n",
    "            v.ListItemIcon(children=[\n",
    "                v.Icon(children=[\"mdi-code-tags\"]),\n",
    "\n",
    "            ]),\n",
    "            v.ListItemContent(children=[\n",
    "                v.ListItemTitle(children=[\"GitHub\"])\n",
    "            ])])\n",
    "    \n",
    "    item2 = v.ListItem(link=True, \n",
    "        href = 'mailto:biologger@protonmail.com?subject=SpeciesPrimer Support',\n",
    "        target = '_blank',\n",
    "        children=[\n",
    "            v.ListItemIcon(children=[\n",
    "                v.Icon(children=[\"mdi-email-edit-outline\"]),\n",
    "            ]),\n",
    "            v.ListItemContent(children=[\n",
    "                v.ListItemTitle(children=[\"Support\"])\n",
    "            ])])\n",
    "\n",
    "    return [item1, item2]\n"
   ]
  },
  {
   "cell_type": "code",
   "execution_count": 249,
   "id": "901ac904",
   "metadata": {},
   "outputs": [
    {
     "data": {
      "application/vnd.jupyter.widget-view+json": {
       "model_id": "20e22d3149d74f0fb88afca5d444eec3",
       "version_major": 2,
       "version_minor": 0
      },
      "text/plain": [
       "Icon(children=['mdi-mdiGithub'])"
      ]
     },
     "metadata": {},
     "output_type": "display_data"
    }
   ],
   "source": [
    "display(v.Icon(children=[\"mdi-mdiGithub\"]))"
   ]
  },
  {
   "cell_type": "code",
   "execution_count": 250,
   "id": "244b5e25",
   "metadata": {},
   "outputs": [],
   "source": [
    "appbar_title = v.ToolbarTitle(\n",
    "    _metadata={'mount_id':'toolbar-title'},\n",
    "    children=['SpeciesPrimer GUI']\n",
    ")"
   ]
  },
  {
   "cell_type": "code",
   "execution_count": 251,
   "id": "3abac9ba",
   "metadata": {},
   "outputs": [],
   "source": [
    "pages = [\n",
    "    \"Home\", \"Configuration\",\n",
    "    \"Select targets\",\n",
    "    \"Pipeline runs\", \"Documentation\"]\n",
    "\n",
    "def menu_list(pages, buttons=True):\n",
    "    list_items = []\n",
    "    for page in pages:\n",
    "        if buttons:\n",
    "            item = v.ListItem(link=True, children=[\n",
    "                v.ListItemContent(children=[\n",
    "                    v.ListItemTitle(children=[\n",
    "                        v.Btn(children=[page])])])])\n",
    "\n",
    "        else:\n",
    "            item = v.ListItem(link=True, children=[\n",
    "                v.ListItemContent(children=[\n",
    "                    v.ListItemTitle(children=[page])\n",
    "                ])])\n",
    "        list_items.append(item)\n",
    "        \n",
    "    return list_items\n",
    "        \n",
    "        \n",
    "list_items = menu_list(pages, False)\n",
    "btns = menu_buttons()\n",
    "list_items.extend(btns)\n",
    "\n",
    "content_nav = v.List(\n",
    "    class_=\"text-left\",\n",
    "    _metadata={'mount_id':'content-nav'},\n",
    "    column=True,\n",
    "    children=list_items\n",
    ")\n"
   ]
  },
  {
   "cell_type": "code",
   "execution_count": 252,
   "id": "15729cd4",
   "metadata": {},
   "outputs": [],
   "source": [
    "%%capture\n",
    "display(content_nav)"
   ]
  },
  {
   "cell_type": "code",
   "execution_count": 253,
   "id": "a9b47a58",
   "metadata": {},
   "outputs": [],
   "source": [
    "def create_helpmenu():\n",
    "    helpnames = [\n",
    "        \"Introduction\", \"Tutorial\", \"Pipeline setup\",\n",
    "        \"Primer design\", \"Troubleshooting\", \"Custom BLAST DB\",\n",
    "        \"Docker Proxy setup\", \"Docker Problems\",\n",
    "        \"Experimental\", \"CLI tips & tricks\"]  \n",
    "    \n",
    "    filenames = [\n",
    "        '/README.md', '/docs/tutorial.md',\n",
    "        '/docs/pipelinesetup.md', '/docs/primerdesign.md',\n",
    "        '/docs/troubleshooting.md', '/docs/customdbtutorial.md',\n",
    "        '/docs/dockerproxy.md', '/docs/dockertroubleshooting.md',\n",
    "        '/docs/virus.md', '/docs/cmdlineonly.md']\n",
    "    \n",
    "    filecontent = []\n",
    "    \n",
    "    for i, fn in enumerate(filenames):\n",
    "        with open(fn) as f:\n",
    "            content = \"\".join(f.readlines())\n",
    "            if helpnames[i] == \"Introduction\":\n",
    "                start = content.index(\"# Introduction\")\n",
    "                content = content[start::]\n",
    "            filecontent.append(content)\n",
    "    \n",
    "    helplist_items = menu_list(helpnames, buttons=False)\n",
    "    \n",
    "       \n",
    "\n",
    "    men = [\n",
    "        v.ListItem(children=[\n",
    "            v.ListItemIcon(children=[\n",
    "                v.Icon(children=[\"menu\"])]), \n",
    "                v.ListItemTitle(children=[\"Help topics\"])]),\n",
    "        v.Card(\n",
    "            children=helplist_items)]\n",
    "\n",
    "            \n",
    "    helpnav = v.NavigationDrawer(\n",
    "    permanent=True,\n",
    "    floating=True, expand_on_hover= True, mini_variant=True, \n",
    "    mini_variant_width=\"30px\", width=\"180px\", \n",
    "    children=men)\n",
    "    \n",
    "    return helplist_items, helpnav, filecontent\n",
    "\n",
    "helplist_items, helpnav, filecontent = create_helpmenu()"
   ]
  },
  {
   "cell_type": "code",
   "execution_count": 254,
   "id": "a4af1831",
   "metadata": {},
   "outputs": [],
   "source": [
    "page1 = v.Layout(column=True, wrap=True, children=[\n",
    "    v.Flex(xs12=True, lg6=True, xl4=True, children=[ v.Html(tag=\"div\",justify_space_around=True,  children=[\"here we will see the Home information\" ])])\n",
    "]) \n",
    "\n",
    "\n",
    "page2 = v.Layout(column=True, wrap=True, children=[\n",
    "    v.Flex(xs12=True, lg6=True, xl4=True, children=[ v.Html(tag=\"div\", children=[\"here we will see the Configuration information\" ])])\n",
    "]) \n",
    "\n",
    "\n",
    "page3 = v.Layout(columns=True, wrap=True, align_center=True, children=[\n",
    "    v.Flex(xs12=True, lg6=True, xl4=True, children=[ v.Html(tag=\"div\", children=[\"here we will see the Select Targets information\" ])])\n",
    "]) \n",
    "\n",
    "\n",
    "page4 = v.Layout(row=True, wrap=True, align_center=True, children=[\n",
    "    v.Flex(xs12=True, lg6=True, xl4=True, children=[ v.Html(tag=\"div\", children=[\"here we will see the Pipeline Runs information\" ])])\n",
    "]) \n",
    "\n",
    "\n",
    "page5 = v.Layout(row=True, wrap=True, align_center=True, children=[\n",
    "    v.Flex(xs12=True, lg6=True, xl4=True, children=[ v.Html(tag=\"div\", children=[\"here we will see the Documentation information\" ])])\n",
    "]) "
   ]
  },
  {
   "cell_type": "code",
   "execution_count": 255,
   "id": "35dc91d9",
   "metadata": {},
   "outputs": [],
   "source": [
    "def switch_page(widget, event, data):\n",
    "    title = widget.children[0].children[0].children[0]#.children[0]\n",
    "    pageindex = pages.index(title)\n",
    "    pagelist = [page1, page2, page3, page4, helppage0]\n",
    "    appbar_title.children = [title]\n",
    "    content_main.children = [pagelist[pageindex]]        \n",
    "\n",
    "\n",
    "list_items[0].on_event('click', switch_page)\n",
    "list_items[1].on_event('click', switch_page)\n",
    "list_items[2].on_event('click', switch_page)\n",
    "list_items[4].on_event('click', switch_page)"
   ]
  },
  {
   "cell_type": "code",
   "execution_count": 256,
   "id": "5d5de340",
   "metadata": {},
   "outputs": [],
   "source": [
    "# By default, page1 is shown\n",
    "content_main = v.Layout(\n",
    "    _metadata={'mount_id': 'content-main'},\n",
    "    overflow=\"auto\",\n",
    "    style_='overflow: auto',\n",
    "    children=[page1]\n",
    ")\n"
   ]
  },
  {
   "cell_type": "code",
   "execution_count": 257,
   "id": "59221434",
   "metadata": {
    "scrolled": false
   },
   "outputs": [],
   "source": [
    "# help pages setup\n",
    "\n",
    "helpbtns, helpnav, helplist = create_helpmenu()\n",
    "\n",
    "def get_help(index, helplist):\n",
    "    out = widgets.Output()\n",
    "    txt = helplist[index]\n",
    "    with out:\n",
    "        display(Markdown(txt))\n",
    "    return out\n",
    "    \n",
    "    \n",
    "helppage0 = v.Layout(column=True, wrap=True, children=[\n",
    "            helpnav,\n",
    "            v.Container(align_start=True, children=[get_help(0, helplist)])\n",
    "    ])\n",
    "\n",
    "helppage1 = v.Layout(column=True, wrap=True, children=[\n",
    "            helpnav,\n",
    "            v.Container(align_start=True, children=[get_help(1, helplist)])\n",
    "    ])\n",
    "\n",
    "helppage2 = v.Layout(column=True, wrap=True, children=[\n",
    "            helpnav,\n",
    "            v.Container(align_start=True, children=[get_help(2, helplist)])\n",
    "    ])\n",
    "\n",
    "helppage3 = v.Layout(column=True, wrap=True, children=[\n",
    "            helpnav,\n",
    "            v.Container(align_start=True, children=[get_help(3, helplist)])\n",
    "    ])\n",
    "\n",
    "helppage4 = v.Layout(column=True, wrap=True, children=[\n",
    "            helpnav,\n",
    "            v.Container(align_start=True, children=[get_help(4, helplist)])\n",
    "    ])\n",
    "\n",
    "helppage5 = v.Layout(column=True, wrap=True, children=[\n",
    "            helpnav,\n",
    "            v.Container(align_start=True, children=[get_help(5, helplist)])\n",
    "    ])\n",
    "\n",
    "helppage6 = v.Layout(column=True, wrap=True, children=[\n",
    "            helpnav,\n",
    "            v.Container(align_start=True, children=[get_help(6, helplist)])\n",
    "    ])\n",
    "\n",
    "helppage7 = v.Layout(column=True, wrap=True, children=[\n",
    "            helpnav,\n",
    "            v.Container(align_start=True, children=[get_help(7, helplist)])\n",
    "    ])\n",
    "\n",
    "helppage8 = v.Layout(column=True, wrap=True, children=[\n",
    "            helpnav,\n",
    "            v.Container(align_start=True, children=[get_help(8, helplist)])\n",
    "    ])\n",
    "\n",
    "helppage9 = v.Layout(column=True, wrap=True, children=[\n",
    "            helpnav,\n",
    "            v.Container(align_start=True, children=[get_help(9, helplist)])\n",
    "    ])"
   ]
  },
  {
   "cell_type": "code",
   "execution_count": 258,
   "id": "8d6107b7",
   "metadata": {},
   "outputs": [],
   "source": [
    "# Help pages navigation\n",
    "\n",
    "def switch_help_page(widget, event, data):\n",
    "    helpnames = [\n",
    "    \"Introduction\", \"Tutorial\", \"Pipeline setup\",\n",
    "    \"Primer design\", \"Troubleshooting\", \"Custom BLAST DB\",\n",
    "    \"Docker Proxy setup\", \"Docker Problems\",\n",
    "    \"Experimental\", \"CLI tips & tricks\"]\n",
    "    helppagelist = [\n",
    "        helppage0,\n",
    "        helppage1,\n",
    "        helppage2,\n",
    "        helppage3,\n",
    "        helppage4,\n",
    "        helppage5,\n",
    "        helppage6,\n",
    "        helppage7,\n",
    "        helppage8,\n",
    "        helppage9,\n",
    "    ]\n",
    "    \n",
    "    title = widget.children[0].children[0].children[0]\n",
    "    display(title)\n",
    "    pageindex = helpnames.index(title)\n",
    "\n",
    "    appbar_title.children = [title]\n",
    "    content_main.children = [helppagelist[pageindex]]   \n",
    "\n",
    "\n",
    "helpbtns[0].on_event('click', switch_help_page)\n",
    "helpbtns[1].on_event('click', switch_help_page)\n",
    "helpbtns[2].on_event('click', switch_help_page)\n",
    "helpbtns[3].on_event('click', switch_help_page)\n",
    "helpbtns[4].on_event('click', switch_help_page)\n",
    "helpbtns[5].on_event('click', switch_help_page)\n",
    "helpbtns[6].on_event('click', switch_help_page)\n",
    "helpbtns[7].on_event('click', switch_help_page)\n",
    "helpbtns[8].on_event('click', switch_help_page)\n",
    "helpbtns[9].on_event('click', switch_help_page)"
   ]
  },
  {
   "cell_type": "code",
   "execution_count": 259,
   "id": "c3748d4d",
   "metadata": {},
   "outputs": [
    {
     "data": {
      "application/vnd.jupyter.widget-view+json": {
       "model_id": "2ae4dce7ea8e4e14b8ccdaf0e774f92b",
       "version_major": 2,
       "version_minor": 0
      },
      "text/plain": [
       "List(children=[ListItem(children=[ListItemContent(children=[ListItemTitle(children=['Home'])])], link=True), L…"
      ]
     },
     "metadata": {},
     "output_type": "display_data"
    }
   ],
   "source": [
    "display(content_nav)"
   ]
  },
  {
   "cell_type": "code",
   "execution_count": 260,
   "id": "fbbd0040",
   "metadata": {
    "scrolled": false
   },
   "outputs": [
    {
     "data": {
      "application/vnd.jupyter.widget-view+json": {
       "model_id": "c1df0355e70745258d2538804885b82f",
       "version_major": 2,
       "version_minor": 0
      },
      "text/plain": [
       "Layout(children=[Layout(children=[Flex(children=[Html(children=['here we will see the Home information'], tag=…"
      ]
     },
     "metadata": {},
     "output_type": "display_data"
    }
   ],
   "source": [
    "content_main"
   ]
  },
  {
   "cell_type": "code",
   "execution_count": null,
   "id": "428260d9",
   "metadata": {},
   "outputs": [],
   "source": []
  },
  {
   "cell_type": "code",
   "execution_count": null,
   "id": "45c89c0c",
   "metadata": {},
   "outputs": [],
   "source": []
  },
  {
   "cell_type": "code",
   "execution_count": null,
   "id": "1a04228a",
   "metadata": {},
   "outputs": [],
   "source": []
  }
 ],
 "metadata": {
  "kernelspec": {
   "display_name": "Python 3 (ipykernel)",
   "language": "python",
   "name": "python3"
  },
  "language_info": {
   "codemirror_mode": {
    "name": "ipython",
    "version": 3
   },
   "file_extension": ".py",
   "mimetype": "text/x-python",
   "name": "python",
   "nbconvert_exporter": "python",
   "pygments_lexer": "ipython3",
   "version": "3.7.9"
  }
 },
 "nbformat": 4,
 "nbformat_minor": 5
}
